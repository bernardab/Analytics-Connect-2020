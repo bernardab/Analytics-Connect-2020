{
  "nbformat": 4,
  "nbformat_minor": 0,
  "metadata": {
    "colab": {
      "name": "Analytics Connect 2020.ipynb",
      "provenance": [],
      "collapsed_sections": [],
      "toc_visible": true,
      "authorship_tag": "ABX9TyNVnnAsjwJGBSF5mz9/DgLg",
      "include_colab_link": true
    },
    "kernelspec": {
      "name": "python3",
      "display_name": "Python 3"
    },
    "accelerator": "GPU"
  },
  "cells": [
    {
      "cell_type": "markdown",
      "metadata": {
        "id": "view-in-github",
        "colab_type": "text"
      },
      "source": [
        "<a href=\"https://colab.research.google.com/github/bernardab/Analytics-Connect-2020/blob/master/Analytics_Connect_2020.ipynb\" target=\"_parent\"><img src=\"https://colab.research.google.com/assets/colab-badge.svg\" alt=\"Open In Colab\"/></a>"
      ]
    },
    {
      "cell_type": "markdown",
      "metadata": {
        "id": "szSXJzU2lg5G",
        "colab_type": "text"
      },
      "source": [
        "# Introduction to Practical Deep Learning with Python\n",
        "\n",
        "\n"
      ]
    },
    {
      "cell_type": "markdown",
      "metadata": {
        "id": "DUGCShGslx5f",
        "colab_type": "text"
      },
      "source": [
        "# SUPERVISED CLASSIFICATION FROM SCRATCH\n",
        "## [Useful when you have lots of data with corresponding labels]"
      ]
    },
    {
      "cell_type": "markdown",
      "metadata": {
        "id": "kGQe7cLiLCAw",
        "colab_type": "text"
      },
      "source": [
        "## PyTorch and Tensors"
      ]
    },
    {
      "cell_type": "code",
      "metadata": {
        "id": "QgV2O1Y0lQbR",
        "colab_type": "code",
        "outputId": "3779ed4e-1c3a-48cc-a45e-7875a66ad052",
        "colab": {
          "base_uri": "https://localhost:8080/",
          "height": 34
        }
      },
      "source": [
        "import torch\n",
        "import torch.autograd as autograd\n",
        "import torch.nn as nn # layers with trainable parameters\n",
        "import torch.nn.functional as F  # arithmetic operations \n",
        "import torch.optim as optim\n",
        "\n",
        "from tqdm import tnrange, tqdm_notebook\n",
        "torch.manual_seed(8451)\n",
        "\n",
        "device = torch.device(\"cuda:0\" if torch.cuda.is_available() else \"cpu\")\n",
        "print('Using device: {}'.format(torch.cuda.get_device_name(device=device) if \n",
        "                                device.type == 'cuda' else 'cpu'))\n"
      ],
      "execution_count": 0,
      "outputs": [
        {
          "output_type": "stream",
          "text": [
            "Using device: Tesla T4\n"
          ],
          "name": "stdout"
        }
      ]
    },
    {
      "cell_type": "code",
      "metadata": {
        "id": "3Uflq7JwlifI",
        "colab_type": "code",
        "outputId": "56720383-e775-486b-d5fd-eff605c544c1",
        "colab": {
          "base_uri": "https://localhost:8080/",
          "height": 187
        }
      },
      "source": [
        "# Tensors are a generalaization of matrices to N dimensions]\n",
        "\n",
        "# vector: 1d tensor\n",
        "V = torch.tensor([1,2,3,4,5])\n",
        "print('vector: {}\\n'.format(V))\n",
        "\n",
        "# matrix: 2d tensor\n",
        "M = torch.tensor([[1., 2., 3.], [4., 5., 6]])\n",
        "print('matrix: {}\\n'.format(M))\n",
        "\n",
        "# 3d tensor of size 2x2x2.\n",
        "T_data = [[[1., 2.], [3., 4.]],\n",
        "          [[5., 6.], [7., 8.]]]\n",
        "\n",
        "T = torch.tensor(T_data)\n",
        "print('3D tensor: {}'.format(T))"
      ],
      "execution_count": 0,
      "outputs": [
        {
          "output_type": "stream",
          "text": [
            "vector: tensor([1, 2, 3, 4, 5])\n",
            "\n",
            "matrix: tensor([[1., 2., 3.],\n",
            "        [4., 5., 6.]])\n",
            "\n",
            "3D tensor: tensor([[[1., 2.],\n",
            "         [3., 4.]],\n",
            "\n",
            "        [[5., 6.],\n",
            "         [7., 8.]]])\n"
          ],
          "name": "stdout"
        }
      ]
    },
    {
      "cell_type": "code",
      "metadata": {
        "id": "5uBrOaE4lswQ",
        "colab_type": "code",
        "colab": {}
      },
      "source": [
        "import torchvision\n",
        "import torchvision.transforms as transforms\n",
        "import numpy as np\n",
        "import matplotlib.pyplot as plt\n"
      ],
      "execution_count": 0,
      "outputs": []
    },
    {
      "cell_type": "markdown",
      "metadata": {
        "id": "AmOvhQbTl6jW",
        "colab_type": "text"
      },
      "source": [
        "## Load and Transform CIFAR-10 Data using Torchvision\n",
        "\n",
        "---\n",
        "\n"
      ]
    },
    {
      "cell_type": "code",
      "metadata": {
        "id": "aj7y6KwVl3nh",
        "colab_type": "code",
        "outputId": "fc986f6e-2ade-4183-8c0b-2c2b0461c9a1",
        "colab": {
          "base_uri": "https://localhost:8080/",
          "height": 189
        }
      },
      "source": [
        "# Load and transform the Canadian Institute for Advanced Research CIFAR10 training and validation datasets using torchvision\n",
        "## to load custom images and apply custom transforms see, \n",
        "## https://pytorch.org/tutorials/beginner/data_loading_tutorial.html\n",
        "\n",
        "\n",
        "# define data transforms (e.g normalization)\n",
        "# https://pytorch.org/docs/stable/torchvision/transforms.html\n",
        "# torchvision.transforms.Normalize(mean, std, inplace=False)\n",
        "transform = transforms.Compose(\n",
        "    [transforms.ToTensor(),\n",
        "     transforms.Normalize((0.5, 0.5, 0.5), (0.5, 0.5, 0.5))]) \n",
        "\n",
        "# load CiFAR10 training set \n",
        "num_train_samples = 5000\n",
        "num_validation_samples = 2500\n",
        "batch_size = 4\n",
        "\n",
        "train_set = torchvision.datasets.CIFAR10(root='./data', train=True,\n",
        "                                        download=True, transform=transform)\n",
        "trainloader = torch.utils.data.DataLoader(train_set, batch_size=batch_size,\n",
        "                                          shuffle=False, num_workers=2, \n",
        "                                          sampler=torch.utils.data.sampler.SubsetRandomSampler(range(num_train_samples)))\n",
        "\n",
        "validation_set = torchvision.datasets.CIFAR10(root='./data', train=False,\n",
        "                                       download=True, transform=transform)\n",
        "validationloader = torch.utils.data.DataLoader(validation_set, batch_size=batch_size,\n",
        "                                         shuffle=False, num_workers=2, \n",
        "                                         sampler=torch.utils.data.sampler.SubsetRandomSampler(range(num_validation_samples)))\n",
        "\n",
        "classes = ('plane', 'car', 'bird', 'cat',\n",
        "           'deer', 'dog', 'frog', 'horse', 'ship', 'truck')\n",
        "\n",
        "\n",
        "# show images\n",
        "def imshow(img):\n",
        "    img = img / 2 + 0.5     # unnormalize\n",
        "    npimg = img.numpy()\n",
        "    plt.imshow(np.transpose(npimg, (1, 2, 0)))\n",
        "    plt.show()\n",
        "\n",
        "\n",
        "# get some random training images\n",
        "data_iter = iter(trainloader)\n",
        "images, labels = data_iter.next()\n",
        "\n",
        "# show images\n",
        "imshow(torchvision.utils.make_grid(images))\n",
        "\n",
        "# print labels\n",
        "print(' '.join('%5s' % classes[labels[j]] for j in range(4)))\n",
        "\n"
      ],
      "execution_count": 0,
      "outputs": [
        {
          "output_type": "stream",
          "text": [
            "Files already downloaded and verified\n",
            "Files already downloaded and verified\n"
          ],
          "name": "stdout"
        },
        {
          "output_type": "display_data",
          "data": {
            "image/png": "[encoded data removed]",
            "text/plain": [
              "<Figure size 432x288 with 1 Axes>"
            ]
          },
          "metadata": {
            "tags": []
          }
        },
        {
          "output_type": "stream",
          "text": [
            " ship  frog  deer  ship\n"
          ],
          "name": "stdout"
        }
      ]
    },
    {
      "cell_type": "markdown",
      "metadata": {
        "id": "MLpcyH8dnApt",
        "colab_type": "text"
      },
      "source": [
        "## Define a Convolutional Neural Network "
      ]
    },
    {
      "cell_type": "code",
      "metadata": {
        "id": "-eVfXdRql7B6",
        "colab_type": "code",
        "colab": {}
      },
      "source": [
        "# http://cs231n.github.io/convolutional-networks/\n",
        "# layers:\n",
        "## torch.nn.Conv2d(in_channels, out_channels, kernel_size, stride=1, padding=0, dilation=1, groups=1, bias=True, padding_mode='zeros')\n",
        "## torch.nn.MaxPool2d(kernel_size, stride=None, padding=0, dilation=1, return_indices=False, ceil_mode=False)\n",
        "## torch.nn.Linear(in_features, out_features, bias=True)\n",
        "## torch.nn.ReLU(inplace=False) -  max(0,x)\n",
        "class Net(nn.Module):\n",
        "    def __init__(self):\n",
        "        super(Net, self).__init__()\n",
        "        self.conv1 = nn.Conv2d(3, 6, 5)\n",
        "        self.pool = nn.MaxPool2d(2, 2)\n",
        "        self.conv2 = nn.Conv2d(6, 16, 5)\n",
        "        self.fc1 = nn.Linear(16 * 5 * 5, 120)\n",
        "        self.fc2 = nn.Linear(120, 84)\n",
        "        self.fc3 = nn.Linear(84, 10)\n",
        "\n",
        "    def forward(self, x):\n",
        "        x = self.pool(F.relu(self.conv1(x)))\n",
        "        x = self.pool(F.relu(self.conv2(x)))\n",
        "        x = x.view(-1, 16 * 5 * 5)\n",
        "        x = F.relu(self.fc1(x))\n",
        "        x = F.relu(self.fc2(x))\n",
        "        x = self.fc3(x)\n",
        "        return x\n",
        "    "
      ],
      "execution_count": 0,
      "outputs": []
    },
    {
      "cell_type": "markdown",
      "metadata": {
        "id": "40Oarun_nG6B",
        "colab_type": "text"
      },
      "source": [
        "## Network Print / Summary"
      ]
    },
    {
      "cell_type": "code",
      "metadata": {
        "id": "51bEKSsVnBQk",
        "colab_type": "code",
        "outputId": "d3e65051-c0ad-411c-dcfb-135942d35dac",
        "colab": {
          "base_uri": "https://localhost:8080/",
          "height": 493
        }
      },
      "source": [
        "from torchsummary import summary\n",
        "net = Net()\n",
        "net.to(device)\n",
        "print(net)\n",
        "summary(net, (3, 32, 32))"
      ],
      "execution_count": 0,
      "outputs": [
        {
          "output_type": "stream",
          "text": [
            "Net(\n",
            "  (conv1): Conv2d(3, 6, kernel_size=(5, 5), stride=(1, 1))\n",
            "  (pool): MaxPool2d(kernel_size=2, stride=2, padding=0, dilation=1, ceil_mode=False)\n",
            "  (conv2): Conv2d(6, 16, kernel_size=(5, 5), stride=(1, 1))\n",
            "  (fc1): Linear(in_features=400, out_features=120, bias=True)\n",
            "  (fc2): Linear(in_features=120, out_features=84, bias=True)\n",
            "  (fc3): Linear(in_features=84, out_features=10, bias=True)\n",
            ")\n",
            "----------------------------------------------------------------\n",
            "        Layer (type)               Output Shape         Param #\n",
            "================================================================\n",
            "            Conv2d-1            [-1, 6, 28, 28]             456\n",
            "         MaxPool2d-2            [-1, 6, 14, 14]               0\n",
            "            Conv2d-3           [-1, 16, 10, 10]           2,416\n",
            "         MaxPool2d-4             [-1, 16, 5, 5]               0\n",
            "            Linear-5                  [-1, 120]          48,120\n",
            "            Linear-6                   [-1, 84]          10,164\n",
            "            Linear-7                   [-1, 10]             850\n",
            "================================================================\n",
            "Total params: 62,006\n",
            "Trainable params: 62,006\n",
            "Non-trainable params: 0\n",
            "----------------------------------------------------------------\n",
            "Input size (MB): 0.01\n",
            "Forward/backward pass size (MB): 0.06\n",
            "Params size (MB): 0.24\n",
            "Estimated Total Size (MB): 0.31\n",
            "----------------------------------------------------------------\n"
          ],
          "name": "stdout"
        }
      ]
    },
    {
      "cell_type": "markdown",
      "metadata": {
        "id": "owPghr62nZRy",
        "colab_type": "text"
      },
      "source": [
        "## Define Loss Function and Optimizer\n"
      ]
    },
    {
      "cell_type": "code",
      "metadata": {
        "id": "96P-3s3bnLVt",
        "colab_type": "code",
        "colab": {}
      },
      "source": [
        "# combines nn.LogSoftmax() and nn.NLLLoss() in one single class.\n",
        "## Softmax: normalizes input vector into probabiity distribution. Generalization of logistic regression to multiple classes\n",
        "## NLLLOSS. negative log-likelihood of the true labels given probabilistic classifier predictions\n",
        "criterion = nn.CrossEntropyLoss() \n",
        "\n",
        "# Stochastic Gradient Descent with momentum\n",
        "optimizer = optim.SGD(net.parameters(), lr=0.01, momentum=0.9)\n"
      ],
      "execution_count": 0,
      "outputs": []
    },
    {
      "cell_type": "markdown",
      "metadata": {
        "id": "KrZAMrdUngSy",
        "colab_type": "text"
      },
      "source": [
        "## Train Neural Network"
      ]
    },
    {
      "cell_type": "code",
      "metadata": {
        "id": "AV8V69Tnncc4",
        "colab_type": "code",
        "outputId": "12a2aa62-604f-4ec5-8f44-b6ca88a68c09",
        "colab": {
          "base_uri": "https://localhost:8080/",
          "height": 204
        }
      },
      "source": [
        "# validation accuracy checker\n",
        "def val_accuracy(net, dataloader):\n",
        "    correct = 0\n",
        "    total = 0\n",
        "    with torch.no_grad():\n",
        "        for data in dataloader:\n",
        "            images, labels = data[0].to(device), data[1].to(device)\n",
        "            outputs = net(images)\n",
        "            _, predicted = torch.max(outputs.data, 1)\n",
        "            total += labels.size(0)\n",
        "            correct += (predicted == labels).sum().item()\n",
        "\n",
        "    return 100 * correct / total\n",
        "\n",
        "# define network, loss, and optimizer\n",
        "net = Net() \n",
        "net.to(device)\n",
        "criterion = nn.CrossEntropyLoss() \n",
        "optimizer = optim.SGD(net.parameters(), lr=0.0001, momentum=0.9)\n",
        "\n",
        "# train network\n",
        "for epoch in range(10):  # loop over the dataset multiple times\n",
        "\n",
        "    running_loss = 0.0\n",
        "    for i, data in enumerate(trainloader, 0):\n",
        "        # get the inputs; data is a list of [inputs, labels]\n",
        "        inputs, labels = data[0].to(device), data[1].to(device)\n",
        "        \n",
        "        # zero the parameter gradients\n",
        "        optimizer.zero_grad()\n",
        "\n",
        "        # forward + backward + optimize\n",
        "        outputs = net(inputs)\n",
        "        loss = criterion(outputs, labels)\n",
        "        loss.backward()\n",
        "        optimizer.step()\n",
        "        \n",
        "        running_loss += loss.item()\n",
        "\n",
        "    # compute validation accuracy\n",
        "    val_acc = val_accuracy(net, validationloader)\n",
        "         \n",
        "    # print statistics every epoch\n",
        "    print('[epoch: {}] training loss: {:.3f}' ' validation accuracy: {} '.format\n",
        "              (epoch + 1, running_loss / (num_train_samples / batch_size), val_acc))\n",
        "    running_loss = 0.0\n",
        "\n",
        "print('Finished Training')"
      ],
      "execution_count": 0,
      "outputs": [
        {
          "output_type": "stream",
          "text": [
            "[epoch: 1] training loss: 2.303 validation accuracy: 10.52 \n",
            "[epoch: 2] training loss: 2.300 validation accuracy: 11.04 \n",
            "[epoch: 3] training loss: 2.296 validation accuracy: 13.36 \n",
            "[epoch: 4] training loss: 2.290 validation accuracy: 16.0 \n",
            "[epoch: 5] training loss: 2.275 validation accuracy: 16.8 \n",
            "[epoch: 6] training loss: 2.244 validation accuracy: 19.72 \n",
            "[epoch: 7] training loss: 2.181 validation accuracy: 24.8 \n",
            "[epoch: 8] training loss: 2.093 validation accuracy: 26.36 \n",
            "[epoch: 9] training loss: 2.016 validation accuracy: 27.84 \n",
            "[epoch: 10] training loss: 1.970 validation accuracy: 30.88 \n",
            "Finished Training\n"
          ],
          "name": "stdout"
        }
      ]
    },
    {
      "cell_type": "markdown",
      "metadata": {
        "id": "lSmvuembob5w",
        "colab_type": "text"
      },
      "source": [
        "## Exercise\n",
        "Try to get training loss below 1 and improve validation accuracy without changing number of epochs and training / test data. \n",
        "ideas: change batchsize, learning rate, new optimizer, network layers"
      ]
    },
    {
      "cell_type": "markdown",
      "metadata": {
        "id": "xEBxii2uomV9",
        "colab_type": "text"
      },
      "source": [
        "# SUPERVISED CLASSIFICATION WITH TRANSFER LEARNING\n",
        "## [Useful when you have little data with corresponding labels]"
      ]
    },
    {
      "cell_type": "markdown",
      "metadata": {
        "id": "NCx82hAUMvRo",
        "colab_type": "text"
      },
      "source": [
        "## Install Huggingface Transformers LIbrary"
      ]
    },
    {
      "cell_type": "code",
      "metadata": {
        "id": "Zfit2KN5ofOF",
        "colab_type": "code",
        "outputId": "cc6d11c4-f1e6-4ec6-ac65-5c4e37cf4025",
        "colab": {
          "base_uri": "https://localhost:8080/",
          "height": 457
        }
      },
      "source": [
        "# text sequence classification with transformers\n",
        "# references 1. https://github.com/huggingface/transformers\n",
        "#            2. https://mccormickml.com/2019/07/22/BERT-fine-tuning/ \n",
        "\n",
        "# install huggingface transformer library [SoTA NLP transfer learning]\n",
        "## supports both Pytorch and Tensorflow \n",
        "\n",
        "!pip install transformers==2.4.0\n",
        "\n",
        "# import transformers modules\n",
        "from transformers import * "
      ],
      "execution_count": 0,
      "outputs": [
        {
          "output_type": "stream",
          "text": [
            "Requirement already satisfied: transformers==2.4.0 in /usr/local/lib/python3.6/dist-packages (2.4.0)\n",
            "Requirement already satisfied: sacremoses in /usr/local/lib/python3.6/dist-packages (from transformers==2.4.0) (0.0.38)\n",
            "Requirement already satisfied: sentencepiece in /usr/local/lib/python3.6/dist-packages (from transformers==2.4.0) (0.1.85)\n",
            "Requirement already satisfied: tokenizers==0.0.11 in /usr/local/lib/python3.6/dist-packages (from transformers==2.4.0) (0.0.11)\n",
            "Requirement already satisfied: requests in /usr/local/lib/python3.6/dist-packages (from transformers==2.4.0) (2.21.0)\n",
            "Requirement already satisfied: numpy in /usr/local/lib/python3.6/dist-packages (from transformers==2.4.0) (1.17.5)\n",
            "Requirement already satisfied: tqdm>=4.27 in /usr/local/lib/python3.6/dist-packages (from transformers==2.4.0) (4.28.1)\n",
            "Requirement already satisfied: boto3 in /usr/local/lib/python3.6/dist-packages (from transformers==2.4.0) (1.11.15)\n",
            "Requirement already satisfied: regex!=2019.12.17 in /usr/local/lib/python3.6/dist-packages (from transformers==2.4.0) (2019.12.20)\n",
            "Requirement already satisfied: filelock in /usr/local/lib/python3.6/dist-packages (from transformers==2.4.0) (3.0.12)\n",
            "Requirement already satisfied: joblib in /usr/local/lib/python3.6/dist-packages (from sacremoses->transformers==2.4.0) (0.14.1)\n",
            "Requirement already satisfied: six in /usr/local/lib/python3.6/dist-packages (from sacremoses->transformers==2.4.0) (1.12.0)\n",
            "Requirement already satisfied: click in /usr/local/lib/python3.6/dist-packages (from sacremoses->transformers==2.4.0) (7.0)\n",
            "Requirement already satisfied: chardet<3.1.0,>=3.0.2 in /usr/local/lib/python3.6/dist-packages (from requests->transformers==2.4.0) (3.0.4)\n",
            "Requirement already satisfied: urllib3<1.25,>=1.21.1 in /usr/local/lib/python3.6/dist-packages (from requests->transformers==2.4.0) (1.24.3)\n",
            "Requirement already satisfied: certifi>=2017.4.17 in /usr/local/lib/python3.6/dist-packages (from requests->transformers==2.4.0) (2019.11.28)\n",
            "Requirement already satisfied: idna<2.9,>=2.5 in /usr/local/lib/python3.6/dist-packages (from requests->transformers==2.4.0) (2.8)\n",
            "Requirement already satisfied: botocore<1.15.0,>=1.14.15 in /usr/local/lib/python3.6/dist-packages (from boto3->transformers==2.4.0) (1.14.15)\n",
            "Requirement already satisfied: jmespath<1.0.0,>=0.7.1 in /usr/local/lib/python3.6/dist-packages (from boto3->transformers==2.4.0) (0.9.4)\n",
            "Requirement already satisfied: s3transfer<0.4.0,>=0.3.0 in /usr/local/lib/python3.6/dist-packages (from boto3->transformers==2.4.0) (0.3.3)\n",
            "Requirement already satisfied: python-dateutil<3.0.0,>=2.1 in /usr/local/lib/python3.6/dist-packages (from botocore<1.15.0,>=1.14.15->boto3->transformers==2.4.0) (2.6.1)\n",
            "Requirement already satisfied: docutils<0.16,>=0.10 in /usr/local/lib/python3.6/dist-packages (from botocore<1.15.0,>=1.14.15->boto3->transformers==2.4.0) (0.15.2)\n"
          ],
          "name": "stdout"
        },
        {
          "output_type": "display_data",
          "data": {
            "text/html": [
              "<p style=\"color: red;\">\n",
              "The default version of TensorFlow in Colab will soon switch to TensorFlow 2.x.<br>\n",
              "We recommend you <a href=\"https://www.tensorflow.org/guide/migrate\" target=\"_blank\">upgrade</a> now \n",
              "or ensure your notebook will continue to use TensorFlow 1.x via the <code>%tensorflow_version 1.x</code> magic:\n",
              "<a href=\"https://colab.research.google.com/notebooks/tensorflow_version.ipynb\" target=\"_blank\">more info</a>.</p>\n"
            ],
            "text/plain": [
              "<IPython.core.display.HTML object>"
            ]
          },
          "metadata": {
            "tags": []
          }
        }
      ]
    },
    {
      "cell_type": "code",
      "metadata": {
        "id": "t248WRzIv57M",
        "colab_type": "code",
        "colab": {}
      },
      "source": [
        "# Transformers has a unified API for various combinations of architectures and pretrained weights. examples\n",
        "#          Model          | Tokenizer          | Pretrained weights shortcut\n",
        "MODELS = [(BertModel,       BertTokenizer,       'bert-base-uncased'),\n",
        "          (AlbertModel,     AlbertTokenizer,    'albert-base-v2'),\n",
        "          (OpenAIGPTModel,  OpenAIGPTTokenizer,  'openai-gpt'),\n",
        "          (GPT2Model,       GPT2Tokenizer,       'gpt2'),\n",
        "        ]\n",
        "\n",
        "# Each architecture is provided with several class for fine-tuning on down-stream tasks, e.g.\n",
        "BERT_MODEL_CLASSES = [BertModel, BertForPreTraining, BertForMaskedLM, BertForNextSentencePrediction,\n",
        "                      BertForSequenceClassification, BertForTokenClassification, BertForQuestionAnswering]\n"
      ],
      "execution_count": 0,
      "outputs": []
    },
    {
      "cell_type": "markdown",
      "metadata": {
        "id": "oqPH3lMBDMjN",
        "colab_type": "text"
      },
      "source": [
        "## Load SST Data using Torchtext"
      ]
    },
    {
      "cell_type": "code",
      "metadata": {
        "id": "4Cm-kU5P09vU",
        "colab_type": "code",
        "outputId": "08dffe56-c13d-4fcb-b9e2-9a422d948455",
        "colab": {
          "base_uri": "https://localhost:8080/",
          "height": 68
        }
      },
      "source": [
        "# Load and preprocess Stanford Sentiment Treebank (SST) sequence classification data with torchtext\n",
        "## https://github.com/pytorch/text\n",
        "## torchtext.data: Generic data loaders, abstractions, and iterators for text (including vocabulary and word vectors)\n",
        "## torchtext.datasets: Pre-built loaders for common NLP datasets\n",
        "\n",
        "import torchtext.data\n",
        "import torchtext.datasets\n",
        "\n",
        "# set up fields\n",
        "TEXT = torchtext.data.Field() # define datatype with instruction for converting to tensor\n",
        "LABEL = torchtext.data.LabelField(dtype = torch.float) # define labels\n",
        "\n",
        "# make splits of the data\n",
        "train, val, test = torchtext.datasets.SST.splits(TEXT, LABEL)\n",
        "\n",
        "print('Number ot training examples: {}'.format(len(train)))\n",
        "print('Number ot validation examples: {}'.format(len(val)))\n",
        "print('Number ot test examples: {}'.format(len(test)))"
      ],
      "execution_count": 0,
      "outputs": [
        {
          "output_type": "stream",
          "text": [
            "Number ot training examples: 8544\n",
            "Number ot validation examples: 1101\n",
            "Number ot test examples: 2210\n"
          ],
          "name": "stdout"
        }
      ]
    },
    {
      "cell_type": "code",
      "metadata": {
        "id": "4VdjPAfrD9tl",
        "colab_type": "code",
        "outputId": "3924accd-cc53-4efb-b00e-67a3320f3b9c",
        "colab": {
          "base_uri": "https://localhost:8080/",
          "height": 394
        }
      },
      "source": [
        "# Generate train and validation sentences and labels for BERT Sequence Classification \n",
        "def prep_text(x):\n",
        "    sentences = [' '.join(word) for word in x.text]\n",
        "    labels = [''.join(word) for word in x.label]\n",
        "    return sentences, labels \n",
        "\n",
        "train_sentences, train_labels_str = prep_text(train)\n",
        "validation_sentences, validation_labels_str = prep_text(val)\n",
        " \n",
        " # convert labels to integers\n",
        "def label2int(label):\n",
        "    if label == 'neutral': return 2\n",
        "    if label == 'positive': return 1\n",
        "    if label == 'negative': return 0\n",
        "\n",
        "train_labels = [label2int(l) for l in train_labels_str]\n",
        "validation_labels = [label2int(l) for l in validation_labels_str]\n",
        "\n",
        "# print train examples\n",
        "print('Sentiment Label Options; {}'.format(set(train_labels_str)))\n",
        "for (s, l, i) in zip(train_sentences[:10], train_labels_str[:10], train_labels[:10]):\n",
        "  print('{}({})\\t {}\\n'.format(l.upper(),i, s))\n"
      ],
      "execution_count": 0,
      "outputs": [
        {
          "output_type": "stream",
          "text": [
            "Sentiment Label Options; {'neutral', 'positive', 'negative'}\n",
            "POSITIVE(1)\t The Rock is destined to be the 21st Century 's new `` Conan '' and that he 's going to make a splash even greater than Arnold Schwarzenegger , Jean-Claud Van Damme or Steven Segal .\n",
            "\n",
            "POSITIVE(1)\t The gorgeously elaborate continuation of `` The Lord of the Rings '' trilogy is so huge that a column of words can not adequately describe co-writer\\/director Peter Jackson 's expanded vision of J.R.R. Tolkien 's Middle-earth .\n",
            "\n",
            "POSITIVE(1)\t Singer\\/composer Bryan Adams contributes a slew of songs -- a few potential hits , a few more simply intrusive to the story -- but the whole package certainly captures the intended , er , spirit of the piece .\n",
            "\n",
            "NEUTRAL(2)\t You 'd think by now America would have had enough of plucky British eccentrics with hearts of gold .\n",
            "\n",
            "POSITIVE(1)\t Yet the act is still charming here .\n",
            "\n",
            "POSITIVE(1)\t Whether or not you 're enlightened by any of Derrida 's lectures on `` the other '' and `` the self , '' Derrida is an undeniably fascinating and playful fellow .\n",
            "\n",
            "POSITIVE(1)\t Just the labour involved in creating the layered richness of the imagery in this chiaroscuro of madness and light is astonishing .\n",
            "\n",
            "POSITIVE(1)\t Part of the charm of Satin Rouge is that it avoids the obvious with humour and lightness .\n",
            "\n",
            "POSITIVE(1)\t a screenplay more ingeniously constructed than `` Memento ''\n",
            "\n",
            "POSITIVE(1)\t `` Extreme Ops '' exceeds expectations .\n",
            "\n"
          ],
          "name": "stdout"
        }
      ]
    },
    {
      "cell_type": "markdown",
      "metadata": {
        "id": "gDuISJgOSgiV",
        "colab_type": "text"
      },
      "source": [
        "## Tokenize and Format Sentences for BERT Training"
      ]
    },
    {
      "cell_type": "code",
      "metadata": {
        "id": "Zytb7NLA_vw5",
        "colab_type": "code",
        "outputId": "66b9b30f-f5d3-414a-ef49-41b9036bf350",
        "colab": {
          "base_uri": "https://localhost:8080/",
          "height": 88
        }
      },
      "source": [
        "# define BERT Tokenizer \n",
        "from transformers import BertTokenizer\n",
        "tokenizer = BertTokenizer.from_pretrained('bert-base-uncased', do_lower_case=True)\n",
        "\n",
        "# tokenize and Format Data using BERT Wordpiece Tokenizer\n",
        "tokenizer = BertTokenizer.from_pretrained('bert-base-uncased', do_lower_case=True)\n",
        "\n",
        "# tokenization example\n",
        "s = train_sentences[5]\n",
        "print('Input Sentence: {}'.format(s))\n",
        "print('Tokenized Sentence: {}'.format(tokenizer.tokenize(s)))\n",
        "print('Token IDs: {}'.format(tokenizer.convert_tokens_to_ids(tokenizer.tokenize(s))))\n",
        "\n"
      ],
      "execution_count": 0,
      "outputs": [
        {
          "output_type": "stream",
          "text": [
            "Input Sentence: Whether or not you 're enlightened by any of Derrida 's lectures on `` the other '' and `` the self , '' Derrida is an undeniably fascinating and playful fellow .\n",
            "Tokenized Sentence: ['whether', 'or', 'not', 'you', \"'\", 're', 'en', '##light', '##ened', 'by', 'any', 'of', 'der', '##rid', '##a', \"'\", 's', 'lectures', 'on', '`', '`', 'the', 'other', \"'\", \"'\", 'and', '`', '`', 'the', 'self', ',', \"'\", \"'\", 'der', '##rid', '##a', 'is', 'an', 'und', '##enia', '##bly', 'fascinating', 'and', 'playful', 'fellow', '.']\n",
            "Token IDs: [3251, 2030, 2025, 2017, 1005, 2128, 4372, 7138, 6675, 2011, 2151, 1997, 4315, 14615, 2050, 1005, 1055, 8921, 2006, 1036, 1036, 1996, 2060, 1005, 1005, 1998, 1036, 1036, 1996, 2969, 1010, 1005, 1005, 4315, 14615, 2050, 2003, 2019, 6151, 19825, 6321, 17160, 1998, 18378, 3507, 1012]\n"
          ],
          "name": "stdout"
        }
      ]
    },
    {
      "cell_type": "code",
      "metadata": {
        "id": "5rHA29WACHyh",
        "colab_type": "code",
        "outputId": "30e94b0c-3172-41c3-880d-6b2cf3ca7588",
        "colab": {
          "base_uri": "https://localhost:8080/",
          "height": 71
        }
      },
      "source": [
        "# tokenize all of the training and validation \n",
        "# sentences and map the tokens to their word IDs as required for BERT training \n",
        "\n",
        "def tokenize_sentences(sentence_list):\n",
        "    \n",
        "    input_ids = []\n",
        "    # For every sentence...\n",
        "    for sent in sentence_list:\n",
        "        # `encode` will:\n",
        "        #   (1) Tokenize the sentence.\n",
        "        #   (2) Prepend the `[CLS]` token to the start [Classification Token]\n",
        "        #   (3) Append the `[SEP]` token to the end. [Seperator Token]\n",
        "        #   (4) Map tokens to their IDs.\n",
        "        encoded_sent = tokenizer.encode(\n",
        "                            sent,                      # Sentence to encode.\n",
        "                            add_special_tokens = True, # Add '[CLS]' and '[SEP]') \n",
        "                            )\n",
        "        \n",
        "        # Add the encoded sentence to the list.\n",
        "        input_ids.append(encoded_sent)\n",
        "    return input_ids\n",
        "\n",
        "train_input_ids = tokenize_sentences(train_sentences)\n",
        "validation_input_ids = tokenize_sentences(validation_sentences)\n",
        "\n",
        "# Print train sentence 0, now as a list of IDs.\n",
        "print('Original Sentence: ', train_sentences[0])\n",
        "print('Token IDs:', train_input_ids[0])"
      ],
      "execution_count": 0,
      "outputs": [
        {
          "output_type": "stream",
          "text": [
            "Original Sentence:  The Rock is destined to be the 21st Century 's new `` Conan '' and that he 's going to make a splash even greater than Arnold Schwarzenegger , Jean-Claud Van Damme or Steven Segal .\n",
            "Token IDs: [101, 1996, 2600, 2003, 16036, 2000, 2022, 1996, 7398, 2301, 1005, 1055, 2047, 1036, 1036, 16608, 1005, 1005, 1998, 2008, 2002, 1005, 1055, 2183, 2000, 2191, 1037, 17624, 2130, 3618, 2084, 7779, 29058, 8625, 13327, 1010, 3744, 1011, 18856, 19513, 3158, 5477, 4168, 2030, 7112, 16562, 2140, 1012, 102]\n"
          ],
          "name": "stdout"
        }
      ]
    },
    {
      "cell_type": "markdown",
      "metadata": {
        "id": "TR_FUSGOSane",
        "colab_type": "text"
      },
      "source": [
        "## Pad and Truncate Sentences to Desired Max Length \n"
      ]
    },
    {
      "cell_type": "code",
      "metadata": {
        "id": "9nAnK2GZRoaL",
        "colab_type": "code",
        "outputId": "cc1f3ae9-4abb-4224-94fc-0b931f7a93c6",
        "colab": {
          "base_uri": "https://localhost:8080/",
          "height": 102
        }
      },
      "source": [
        "from keras.preprocessing.sequence import pad_sequences\n",
        "\n",
        "# length of longest sentence in training data\n",
        "print('Max sentence length: ', max([len(sen) for sen in train_input_ids]))\n",
        "\n",
        "# usually we want to set max length to 128 (next closest power of 2 to max sentence length)\n",
        "# to make things run faster let's try 32\n",
        "MAX_LEN = 32\n",
        "\n",
        "print('Padding/truncating all sentences to %d values...\\n' % MAX_LEN)\n",
        "\n",
        "print('Padding token: \"{:}\", ID: {:}'.format(tokenizer.pad_token, tokenizer.pad_token_id))\n",
        "\n",
        "# Pad our input tokens with value 0.\n",
        "# \"post\" indicates that we want to pad and truncate at the end of the sequence,\n",
        "# as opposed to the beginning.\n",
        "\n",
        "train_inputs = pad_sequences(train_input_ids, maxlen=MAX_LEN, dtype=\"long\", \n",
        "                              value=0, truncating=\"post\", padding=\"post\")\n",
        "validation_inputs = pad_sequences(validation_input_ids, maxlen=MAX_LEN, dtype=\"long\", \n",
        "                              value=0, truncating=\"post\", padding=\"post\")\n"
      ],
      "execution_count": 0,
      "outputs": [
        {
          "output_type": "stream",
          "text": [
            "Max sentence length:  80\n",
            "Padding/truncating all sentences to 64 values...\n",
            "\n",
            "Padding token: \"[PAD]\", ID: 0\n"
          ],
          "name": "stdout"
        },
        {
          "output_type": "stream",
          "text": [
            "Using TensorFlow backend.\n"
          ],
          "name": "stderr"
        }
      ]
    },
    {
      "cell_type": "markdown",
      "metadata": {
        "id": "MAcJbClYS8U3",
        "colab_type": "text"
      },
      "source": [
        "## Build Attention Masks"
      ]
    },
    {
      "cell_type": "code",
      "metadata": {
        "id": "6-axDaCkRuex",
        "colab_type": "code",
        "colab": {}
      },
      "source": [
        "# Create attention masks\n",
        "def create_attention_masks(input_ids):\n",
        "\n",
        "    attention_masks = []\n",
        "\n",
        "    # For each sentence...\n",
        "    for sent in input_ids:\n",
        "        \n",
        "        # Create the attention mask.\n",
        "        #   - If a token ID is 0, then it's padding, set the mask to 0.\n",
        "        #   - If a token ID is > 0, then it's a real token, set the mask to 1.\n",
        "        att_mask = [int(token_id > 0) for token_id in sent]\n",
        "        \n",
        "        # Store the attention mask for this sentence.\n",
        "        attention_masks.append(att_mask)\n",
        "    return attention_masks\n",
        "\n",
        "train_masks = create_attention_masks(train_inputs)\n",
        "validation_masks = create_attention_masks(validation_inputs)"
      ],
      "execution_count": 0,
      "outputs": []
    },
    {
      "cell_type": "markdown",
      "metadata": {
        "id": "l4qZ7uTKHO27",
        "colab_type": "text"
      },
      "source": [
        "## Convert Data to Pytorch Tensors"
      ]
    },
    {
      "cell_type": "code",
      "metadata": {
        "id": "bY-BxcXBFLTZ",
        "colab_type": "code",
        "colab": {}
      },
      "source": [
        "# Convert all inputs and labels into torch tensors, the required datatype \n",
        "# for our model.\n",
        "train_inputs = torch.tensor(train_inputs)\n",
        "validation_inputs = torch.tensor(validation_inputs)\n",
        "\n",
        "train_labels = torch.tensor(train_labels)\n",
        "validation_labels = torch.tensor(validation_labels)\n",
        "\n",
        "train_masks = torch.tensor(train_masks)\n",
        "validation_masks = torch.tensor(validation_masks)\n",
        "\n",
        "\n",
        "from torch.utils.data import TensorDataset, DataLoader, RandomSampler, SequentialSampler\n",
        "\n",
        "# The DataLoader needs to know our batch size for training, so we specify it \n",
        "# here.\n",
        "# For fine-tuning BERT on a specific task, the authors recommend a batch size of\n",
        "# 16 or 32.\n",
        "\n",
        "batch_size = 32\n",
        "\n",
        "# Create the DataLoader for our training set.\n",
        "train_data = TensorDataset(train_inputs, train_masks, train_labels)\n",
        "train_sampler = RandomSampler(train_data)\n",
        "train_dataloader = DataLoader(train_data, sampler=train_sampler, batch_size=batch_size)\n",
        "\n",
        "# Create the DataLoader for our validation set.\n",
        "validation_data = TensorDataset(validation_inputs, validation_masks, validation_labels)\n",
        "validation_sampler = SequentialSampler(validation_data)\n",
        "validation_dataloader = DataLoader(validation_data, sampler=validation_sampler, batch_size=batch_size)\n",
        "\n"
      ],
      "execution_count": 0,
      "outputs": []
    },
    {
      "cell_type": "markdown",
      "metadata": {
        "id": "CeAXx3XfOyOF",
        "colab_type": "text"
      },
      "source": [
        "## Define BERT Classification Model"
      ]
    },
    {
      "cell_type": "code",
      "metadata": {
        "id": "pvp9TSYdUANG",
        "colab_type": "code",
        "outputId": "6e685dff-11d2-494d-8162-e784c5a35c03",
        "colab": {
          "base_uri": "https://localhost:8080/",
          "height": 612
        }
      },
      "source": [
        "from transformers import BertForSequenceClassification\n",
        "\n",
        "# Load BertForSequenceClassification, the pretrained BERT model with a single \n",
        "# linear classification layer on top. \n",
        "model = BertForSequenceClassification.from_pretrained(\n",
        "    \"bert-base-uncased\", # Use the 12-layer BERT model, with an uncased vocab.\n",
        "    num_labels = 3, # The number of output labels--3 for positive, negative and neutral\n",
        "    output_attentions = False, # Whether the model returns attentions weights.\n",
        "    output_hidden_states = False, # Whether the model returns all hidden-states.\n",
        ")\n",
        "\n",
        "# Tell pytorch to run this model on the GPU.\n",
        "model.to(device)\n",
        "\n",
        "# Get all of the model's parameters as a list of tuples.\n",
        "params = list(model.named_parameters())\n",
        "\n",
        "print('The BERT model has {:} different named parameters.\\n'.format(len(params)))\n",
        "\n",
        "print('==== Embedding Layer ====\\n')\n",
        "\n",
        "for p in params[0:5]:\n",
        "    print(\"{:<55} {:>12}\".format(p[0], str(tuple(p[1].size()))))\n",
        "\n",
        "print('\\n==== First Transformer ====\\n')\n",
        "\n",
        "for p in params[5:21]:\n",
        "    print(\"{:<55} {:>12}\".format(p[0], str(tuple(p[1].size()))))\n",
        "\n",
        "print('\\n==== Output Layer ====\\n')\n",
        "\n",
        "for p in params[-4:]:\n",
        "    print(\"{:<55} {:>12}\".format(p[0], str(tuple(p[1].size()))))"
      ],
      "execution_count": 0,
      "outputs": [
        {
          "output_type": "stream",
          "text": [
            "The BERT model has 201 different named parameters.\n",
            "\n",
            "==== Embedding Layer ====\n",
            "\n",
            "bert.embeddings.word_embeddings.weight                  (30522, 768)\n",
            "bert.embeddings.position_embeddings.weight                (512, 768)\n",
            "bert.embeddings.token_type_embeddings.weight                (2, 768)\n",
            "bert.embeddings.LayerNorm.weight                              (768,)\n",
            "bert.embeddings.LayerNorm.bias                                (768,)\n",
            "\n",
            "==== First Transformer ====\n",
            "\n",
            "bert.encoder.layer.0.attention.self.query.weight          (768, 768)\n",
            "bert.encoder.layer.0.attention.self.query.bias                (768,)\n",
            "bert.encoder.layer.0.attention.self.key.weight            (768, 768)\n",
            "bert.encoder.layer.0.attention.self.key.bias                  (768,)\n",
            "bert.encoder.layer.0.attention.self.value.weight          (768, 768)\n",
            "bert.encoder.layer.0.attention.self.value.bias                (768,)\n",
            "bert.encoder.layer.0.attention.output.dense.weight        (768, 768)\n",
            "bert.encoder.layer.0.attention.output.dense.bias              (768,)\n",
            "bert.encoder.layer.0.attention.output.LayerNorm.weight        (768,)\n",
            "bert.encoder.layer.0.attention.output.LayerNorm.bias          (768,)\n",
            "bert.encoder.layer.0.intermediate.dense.weight           (3072, 768)\n",
            "bert.encoder.layer.0.intermediate.dense.bias                 (3072,)\n",
            "bert.encoder.layer.0.output.dense.weight                 (768, 3072)\n",
            "bert.encoder.layer.0.output.dense.bias                        (768,)\n",
            "bert.encoder.layer.0.output.LayerNorm.weight                  (768,)\n",
            "bert.encoder.layer.0.output.LayerNorm.bias                    (768,)\n",
            "\n",
            "==== Output Layer ====\n",
            "\n",
            "bert.pooler.dense.weight                                  (768, 768)\n",
            "bert.pooler.dense.bias                                        (768,)\n",
            "classifier.weight                                           (3, 768)\n",
            "classifier.bias                                                 (3,)\n"
          ],
          "name": "stdout"
        }
      ]
    },
    {
      "cell_type": "markdown",
      "metadata": {
        "id": "QoRsI-T9PEHi",
        "colab_type": "text"
      },
      "source": [
        "## Define Optimizer & Learning Rate Scheduler"
      ]
    },
    {
      "cell_type": "code",
      "metadata": {
        "id": "sTV5ilq3PGDK",
        "colab_type": "code",
        "colab": {}
      },
      "source": [
        "# adam with weight decay\n",
        "from transformers import AdamW\n",
        "\n",
        "optimizer = AdamW(model.parameters(), lr = 5e-5)\n",
        "\n",
        "from transformers import get_linear_schedule_with_warmup\n",
        "\n",
        "# Number of training epochs\n",
        "epochs = 4\n",
        "\n",
        "# Total number of training steps is number of batches * number of epochs.\n",
        "total_steps = len(train_dataloader) * epochs\n",
        "\n",
        "# Create the learning rate scheduler.\n",
        "scheduler = get_linear_schedule_with_warmup(optimizer, \n",
        "                                            num_warmup_steps = 0,\n",
        "                                            num_training_steps = total_steps)\n"
      ],
      "execution_count": 0,
      "outputs": []
    },
    {
      "cell_type": "markdown",
      "metadata": {
        "id": "K8wF0PKtWT61",
        "colab_type": "text"
      },
      "source": [
        "## Train Sentiment Classification Model"
      ]
    },
    {
      "cell_type": "code",
      "metadata": {
        "id": "VP2DVOqZUJPw",
        "colab_type": "code",
        "colab": {}
      },
      "source": [
        "import numpy as np\n",
        "\n",
        "# Function to calculate the accuracy of our predictions vs labels\n",
        "def flat_accuracy(preds, labels):\n",
        "    pred_flat = np.argmax(preds, axis=1).flatten()\n",
        "    labels_flat = labels.flatten()\n",
        "    return np.sum(pred_flat == labels_flat) / len(labels_flat)\n",
        "\n",
        "# Helper function for formatting elapsed times.\n",
        "import time\n",
        "import datetime\n",
        "\n",
        "def format_time(elapsed):\n",
        "    '''\n",
        "    Takes a time in seconds and returns a string hh:mm:ss\n",
        "    '''\n",
        "    # Round to the nearest second.\n",
        "    elapsed_rounded = int(round((elapsed)))\n",
        "    \n",
        "    # Format as hh:mm:ss\n",
        "    return str(datetime.timedelta(seconds=elapsed_rounded))\n"
      ],
      "execution_count": 0,
      "outputs": []
    },
    {
      "cell_type": "code",
      "metadata": {
        "colab_type": "code",
        "outputId": "338e7426-0e63-4264-fe74-9f5b2640d893",
        "id": "ZhLsHK8-Z9Ar",
        "colab": {
          "base_uri": "https://localhost:8080/",
          "height": 1000
        }
      },
      "source": [
        "# Store the average loss after each epoch so we can plot them.\n",
        "loss_values = []\n",
        "\n",
        "# For each epoch...\n",
        "for epoch_i in range(0, epochs):\n",
        "    \n",
        "    # ========================================\n",
        "    #               Training\n",
        "    # ========================================\n",
        "    \n",
        "    # Perform one full pass over the training set.\n",
        "\n",
        "    print(\"\")\n",
        "    print('======== Epoch {:} / {:} ========'.format(epoch_i + 1, epochs))\n",
        "    print('Training...')\n",
        "\n",
        "    # Measure how long the training epoch takes.\n",
        "    t0 = time.time()\n",
        "\n",
        "    # Reset the total loss for this epoch.\n",
        "    total_loss = 0\n",
        "\n",
        "    # Put the model into training mode. Don't be mislead--the call to \n",
        "    # `train` just changes the *mode*, it doesn't *perform* the training.\n",
        "    # `dropout` and `batchnorm` layers behave differently during training\n",
        "    # vs. test (source: https://stackoverflow.com/questions/51433378/what-does-model-train-do-in-pytorch)\n",
        "    model.train()\n",
        "\n",
        "    # For each batch of training data...\n",
        "    for step, batch in enumerate(train_dataloader):\n",
        "\n",
        "        # Progress update every 40 batches.\n",
        "        if step % 40 == 0 and not step == 0:\n",
        "            # Calculate elapsed time in minutes.\n",
        "            elapsed = format_time(time.time() - t0)\n",
        "            \n",
        "            # Report progress.\n",
        "            print('  Batch {:>5,}  of  {:>5,}.    Elapsed: {:}.'.format(step, len(train_dataloader), elapsed))\n",
        "\n",
        "        # Unpack this training batch from our dataloader. \n",
        "        #\n",
        "        # As we unpack the batch, we'll also copy each tensor to the GPU using the \n",
        "        # `to` method.\n",
        "        #\n",
        "        # `batch` contains three pytorch tensors:\n",
        "        #   [0]: input ids \n",
        "        #   [1]: attention masks\n",
        "        #   [2]: labels \n",
        "        b_input_ids = batch[0].to(device)\n",
        "        b_input_mask = batch[1].to(device)\n",
        "        b_labels = batch[2].to(device)\n",
        "\n",
        "        # Always clear any previously calculated gradients before performing a\n",
        "        # backward pass. PyTorch doesn't do this automatically because \n",
        "        # accumulating the gradients is \"convenient while training RNNs\". \n",
        "        # (source: https://stackoverflow.com/questions/48001598/why-do-we-need-to-call-zero-grad-in-pytorch)\n",
        "        model.zero_grad()        \n",
        "\n",
        "        # Perform a forward pass (evaluate the model on this training batch).\n",
        "        # This will return the loss (rather than the model output) because we\n",
        "        # have provided the `labels`.\n",
        "        # The documentation for this `model` function is here: \n",
        "        # https://huggingface.co/transformers/v2.2.0/model_doc/bert.html#transformers.BertForSequenceClassification\n",
        "        outputs = model(b_input_ids, \n",
        "                    token_type_ids=None, \n",
        "                    attention_mask=b_input_mask, \n",
        "                    labels=b_labels)\n",
        "        \n",
        "        # The call to `model` always returns a tuple, so we need to pull the \n",
        "        # loss value out of the tuple.\n",
        "        loss = outputs[0]\n",
        "\n",
        "        # Accumulate the training loss over all of the batches so that we can\n",
        "        # calculate the average loss at the end. `loss` is a Tensor containing a\n",
        "        # single value; the `.item()` function just returns the Python value \n",
        "        # from the tensor.\n",
        "        total_loss += loss.item()\n",
        "\n",
        "        # Perform a backward pass to calculate the gradients.\n",
        "        loss.backward()\n",
        "\n",
        "        # Clip the norm of the gradients to 1.0.\n",
        "        # This is to help prevent the \"exploding gradients\" problem.\n",
        "        torch.nn.utils.clip_grad_norm_(model.parameters(), 1.0)\n",
        "\n",
        "        # Update parameters and take a step using the computed gradient.\n",
        "        # The optimizer dictates the \"update rule\"--how the parameters are\n",
        "        # modified based on their gradients, the learning rate, etc.\n",
        "        optimizer.step()\n",
        "\n",
        "        # Update the learning rate.\n",
        "        scheduler.step()\n",
        "\n",
        "    # Calculate the average loss over the training data.\n",
        "    avg_train_loss = total_loss / len(train_dataloader)            \n",
        "    \n",
        "    # Store the loss value for plotting the learning curve.\n",
        "    loss_values.append(avg_train_loss)\n",
        "\n",
        "    print(\"\")\n",
        "    print(\"  Average training loss: {0:.2f}\".format(avg_train_loss))\n",
        "    print(\"  Training epcoh took: {:}\".format(format_time(time.time() - t0)))\n",
        "        \n",
        "    # ========================================\n",
        "    #               Validation\n",
        "    # ========================================\n",
        "    # After the completion of each training epoch, measure our performance on\n",
        "    # our validation set.\n",
        "\n",
        "    print(\"\")\n",
        "    print(\"Running Validation...\")\n",
        "\n",
        "    t0 = time.time()\n",
        "\n",
        "    # Put the model in evaluation mode--the dropout layers behave differently\n",
        "    # during evaluation.\n",
        "    model.eval()\n",
        "\n",
        "    # Tracking variables \n",
        "    eval_loss, eval_accuracy = 0, 0\n",
        "    nb_eval_steps, nb_eval_examples = 0, 0\n",
        "\n",
        "    # Evaluate data for one epoch\n",
        "    for batch in validation_dataloader:\n",
        "        \n",
        "        # Add batch to GPU\n",
        "        batch = tuple(t.to(device) for t in batch)\n",
        "        \n",
        "        # Unpack the inputs from our dataloader\n",
        "        b_input_ids, b_input_mask, b_labels = batch\n",
        "        \n",
        "        # Telling the model not to compute or store gradients, saving memory and\n",
        "        # speeding up validation\n",
        "        with torch.no_grad():        \n",
        "\n",
        "            # Forward pass, calculate logit predictions.\n",
        "            # This will return the logits rather than the loss because we have\n",
        "            # not provided labels.\n",
        "            # token_type_ids is the same as the \"segment ids\", which \n",
        "            # differentiates sentence 1 and 2 in 2-sentence tasks.\n",
        "            outputs = model(b_input_ids, \n",
        "                            token_type_ids=None, \n",
        "                            attention_mask=b_input_mask)\n",
        "        \n",
        "        # Get the \"logits\" output by the model. The \"logits\" are the output\n",
        "        # values prior to applying an activation function like the softmax.\n",
        "        logits = outputs[0]\n",
        "\n",
        "        # Move logits and labels to CPU\n",
        "        logits = logits.detach().cpu().numpy()\n",
        "        label_ids = b_labels.to('cpu').numpy()\n",
        "        \n",
        "        # Calculate the accuracy for this batch of test sentences.\n",
        "        tmp_eval_accuracy = flat_accuracy(logits, label_ids)\n",
        "        \n",
        "        # Accumulate the total accuracy.\n",
        "        eval_accuracy += tmp_eval_accuracy\n",
        "\n",
        "        # Track the number of batches\n",
        "        nb_eval_steps += 1\n",
        "\n",
        "    # Report the final accuracy for this validation run.\n",
        "    print(\"  Accuracy: {0:.2f}\".format(eval_accuracy/nb_eval_steps))\n",
        "    print(\"  Validation took: {:}\".format(format_time(time.time() - t0)))\n",
        "\n",
        "print(\"\")\n",
        "print(\"Training complete!\")"
      ],
      "execution_count": 0,
      "outputs": [
        {
          "output_type": "stream",
          "text": [
            "\n",
            "======== Epoch 1 / 4 ========\n",
            "Training...\n",
            "  Batch    40  of    267.    Elapsed: 0:00:16.\n",
            "  Batch    80  of    267.    Elapsed: 0:00:32.\n",
            "  Batch   120  of    267.    Elapsed: 0:00:49.\n",
            "  Batch   160  of    267.    Elapsed: 0:01:05.\n",
            "  Batch   200  of    267.    Elapsed: 0:01:22.\n",
            "  Batch   240  of    267.    Elapsed: 0:01:38.\n",
            "\n",
            "  Average training loss: 0.71\n",
            "  Training epcoh took: 0:01:49\n",
            "\n",
            "Running Validation...\n",
            "  Accuracy: 0.73\n",
            "  Validation took: 0:00:05\n",
            "\n",
            "======== Epoch 2 / 4 ========\n",
            "Training...\n",
            "  Batch    40  of    267.    Elapsed: 0:00:16.\n",
            "  Batch    80  of    267.    Elapsed: 0:00:33.\n",
            "  Batch   120  of    267.    Elapsed: 0:00:49.\n",
            "  Batch   160  of    267.    Elapsed: 0:01:06.\n",
            "  Batch   200  of    267.    Elapsed: 0:01:22.\n",
            "  Batch   240  of    267.    Elapsed: 0:01:38.\n",
            "\n",
            "  Average training loss: 0.45\n",
            "  Training epcoh took: 0:01:49\n",
            "\n",
            "Running Validation...\n",
            "  Accuracy: 0.74\n",
            "  Validation took: 0:00:05\n",
            "\n",
            "======== Epoch 3 / 4 ========\n",
            "Training...\n",
            "  Batch    40  of    267.    Elapsed: 0:00:16.\n",
            "  Batch    80  of    267.    Elapsed: 0:00:33.\n",
            "  Batch   120  of    267.    Elapsed: 0:00:49.\n",
            "  Batch   160  of    267.    Elapsed: 0:01:06.\n",
            "  Batch   200  of    267.    Elapsed: 0:01:22.\n",
            "  Batch   240  of    267.    Elapsed: 0:01:38.\n",
            "\n",
            "  Average training loss: 0.27\n",
            "  Training epcoh took: 0:01:49\n",
            "\n",
            "Running Validation...\n",
            "  Accuracy: 0.73\n",
            "  Validation took: 0:00:05\n",
            "\n",
            "======== Epoch 4 / 4 ========\n",
            "Training...\n",
            "  Batch    40  of    267.    Elapsed: 0:00:16.\n",
            "  Batch    80  of    267.    Elapsed: 0:00:33.\n",
            "  Batch   120  of    267.    Elapsed: 0:00:49.\n",
            "  Batch   160  of    267.    Elapsed: 0:01:05.\n",
            "  Batch   200  of    267.    Elapsed: 0:01:22.\n",
            "  Batch   240  of    267.    Elapsed: 0:01:38.\n",
            "\n",
            "  Average training loss: 0.13\n",
            "  Training epcoh took: 0:01:49\n",
            "\n",
            "Running Validation...\n",
            "  Accuracy: 0.72\n",
            "  Validation took: 0:00:05\n",
            "\n",
            "Training complete!\n"
          ],
          "name": "stdout"
        }
      ]
    },
    {
      "cell_type": "markdown",
      "metadata": {
        "id": "l6XKUEhUpByI",
        "colab_type": "text"
      },
      "source": [
        "## Exercise\n",
        "Try improving Accuracy by adjusting parameters "
      ]
    }
  ]
}